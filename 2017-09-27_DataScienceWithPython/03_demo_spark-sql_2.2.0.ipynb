{
 "cells": [
  {
   "cell_type": "code",
   "execution_count": 1,
   "metadata": {},
   "outputs": [
    {
     "name": "stdout",
     "output_type": "stream",
     "text": [
      "Spark version: 2.2.0\n",
      "Pandas version: 0.20.2\n"
     ]
    }
   ],
   "source": [
    "import pandas as pd\n",
    "import numpy as np\n",
    "\n",
    "print \"Spark version:\",sc.version\n",
    "print \"Pandas version:\",pd.__version__\n",
    "\n",
    "from pandas import Series, DataFrame\n",
    "\n",
    "from os import getenv\n",
    "DATADIR = getenv(\"DATADIR\")\n",
    "SUBDIR = '/PUBLIC/movielens/ml-1m'\n",
    "DATADIR += SUBDIR"
   ]
  },
  {
   "cell_type": "markdown",
   "metadata": {},
   "source": [
    "---\n",
    "# Spark DataFrames"
   ]
  },
  {
   "cell_type": "code",
   "execution_count": 2,
   "metadata": {
    "collapsed": true
   },
   "outputs": [],
   "source": [
    "usersDF = spark.read.csv(\"%s/users.csv\" % DATADIR, sep=',', header=False, inferSchema=True)\n",
    "usersDF =  usersDF.withColumnRenamed('_c0', 'UserID') \\\n",
    "\t\t\t\t\t\t\t\t\t.withColumnRenamed('_c1', 'Gender') \\\n",
    "\t\t\t\t\t\t\t\t\t.withColumnRenamed('_c2', 'Age') \\\n",
    "\t\t\t\t\t\t\t\t\t.withColumnRenamed('_c3', 'Occupation') \\\n",
    "\t\t\t\t\t\t\t\t\t.withColumnRenamed('_c4', 'ZipCode')\n",
    "usersDF.createOrReplaceTempView(\"users\")"
   ]
  },
  {
   "cell_type": "code",
   "execution_count": 3,
   "metadata": {},
   "outputs": [
    {
     "name": "stdout",
     "output_type": "stream",
     "text": [
      "+------+------+---+----------+-------+\n",
      "|UserID|Gender|Age|Occupation|ZipCode|\n",
      "+------+------+---+----------+-------+\n",
      "|     1|     F|  1|        10|  48067|\n",
      "|     2|     M| 56|        16|  70072|\n",
      "|     3|     M| 25|        15|  55117|\n",
      "|     4|     M| 45|         7|  02460|\n",
      "|     5|     M| 25|        20|  55455|\n",
      "+------+------+---+----------+-------+\n",
      "\n"
     ]
    }
   ],
   "source": [
    "spark.sql(\"select * from users limit 5\").show()"
   ]
  },
  {
   "cell_type": "code",
   "execution_count": 4,
   "metadata": {
    "collapsed": true
   },
   "outputs": [],
   "source": [
    "ratingsDF = spark.read.csv(\"%s/ratings.csv\" % DATADIR, sep=',', header=False, inferSchema=True)\n",
    "ratingsDF =  ratingsDF.withColumnRenamed('_c0', 'UserID') \\\n",
    "\t\t\t\t\t\t\t\t\t\t\t.withColumnRenamed('_c1', 'MovieID') \\\n",
    "\t\t\t\t\t\t\t\t\t\t\t.withColumnRenamed('_c2', 'Rating') \\\n",
    "\t\t\t\t\t\t\t\t\t\t\t.withColumnRenamed('_c3', 'Timestamp')\n",
    "ratingsDF.createOrReplaceTempView(\"ratings\")"
   ]
  },
  {
   "cell_type": "code",
   "execution_count": 5,
   "metadata": {},
   "outputs": [
    {
     "name": "stdout",
     "output_type": "stream",
     "text": [
      "+------+------+\n",
      "|Rating|   Cnt|\n",
      "+------+------+\n",
      "|     1| 56174|\n",
      "|     3|261197|\n",
      "|     5|226310|\n",
      "|     4|348971|\n",
      "|     2|107557|\n",
      "+------+------+\n",
      "\n"
     ]
    }
   ],
   "source": [
    "spark.sql(\"select Rating, count(*) as Cnt from ratings group by Rating\").show()"
   ]
  },
  {
   "cell_type": "markdown",
   "metadata": {
    "collapsed": true
   },
   "source": [
    "---\n",
    "## Join DataFrames"
   ]
  },
  {
   "cell_type": "code",
   "execution_count": 6,
   "metadata": {
    "collapsed": true
   },
   "outputs": [],
   "source": [
    "spark.sql(\"select * from users u inner join ratings r on u.UserID = r.UserID\").createOrReplaceTempView(\"ratingsWithUserData\")"
   ]
  },
  {
   "cell_type": "code",
   "execution_count": 7,
   "metadata": {},
   "outputs": [
    {
     "name": "stdout",
     "output_type": "stream",
     "text": [
      "+------+------+---+----------+-------+------+-------+------+---------+\n",
      "|UserID|Gender|Age|Occupation|ZipCode|UserID|MovieID|Rating|Timestamp|\n",
      "+------+------+---+----------+-------+------+-------+------+---------+\n",
      "|     1|     F|  1|        10|  48067|     1|   1193|     5|978300760|\n",
      "|     1|     F|  1|        10|  48067|     1|    661|     3|978302109|\n",
      "|     1|     F|  1|        10|  48067|     1|    914|     3|978301968|\n",
      "|     1|     F|  1|        10|  48067|     1|   3408|     4|978300275|\n",
      "|     1|     F|  1|        10|  48067|     1|   2355|     5|978824291|\n",
      "|     1|     F|  1|        10|  48067|     1|   1197|     3|978302268|\n",
      "|     1|     F|  1|        10|  48067|     1|   1287|     5|978302039|\n",
      "|     1|     F|  1|        10|  48067|     1|   2804|     5|978300719|\n",
      "|     1|     F|  1|        10|  48067|     1|    594|     4|978302268|\n",
      "|     1|     F|  1|        10|  48067|     1|    919|     4|978301368|\n",
      "+------+------+---+----------+-------+------+-------+------+---------+\n",
      "\n"
     ]
    }
   ],
   "source": [
    "spark.sql('select * from ratingsWithUserData limit 10').show()"
   ]
  },
  {
   "cell_type": "code",
   "execution_count": 8,
   "metadata": {},
   "outputs": [
    {
     "name": "stdout",
     "output_type": "stream",
     "text": [
      "+------+------+------+\n",
      "|Rating|Gender|   Cnt|\n",
      "+------+------+------+\n",
      "|     1|     F| 13347|\n",
      "|     1|     M| 42827|\n",
      "|     2|     F| 24548|\n",
      "|     2|     M| 83009|\n",
      "|     3|     F| 62966|\n",
      "|     3|     M|198231|\n",
      "|     4|     F| 87033|\n",
      "|     4|     M|261938|\n",
      "|     5|     F| 58546|\n",
      "|     5|     M|167764|\n",
      "+------+------+------+\n",
      "\n"
     ]
    }
   ],
   "source": [
    "spark.sql('''\n",
    "\tselect Rating, Gender, count(*) as Cnt\n",
    "\tfrom ratingsWithUserData\n",
    "\tgroup by Rating, Gender\n",
    "\torder by Rating, Gender\n",
    "''').show()"
   ]
  },
  {
   "cell_type": "code",
   "execution_count": 10,
   "metadata": {},
   "outputs": [
    {
     "name": "stdout",
     "output_type": "stream",
     "text": [
      "Nr. of ratings by female users: 246440\n",
      "Nr. of ratings by male users:   753769\n"
     ]
    }
   ],
   "source": [
    "fRatingsNr=spark.sql(\"select count(*) from ratingsWithUserData where Gender = 'F'\").collect()[0][0]\n",
    "mRatingsNr=spark.sql(\"select count(*) from ratingsWithUserData where Gender = 'M'\").collect()[0][0]\n",
    "print \"Nr. of ratings by female users:\",fRatingsNr\n",
    "print \"Nr. of ratings by male users:  \",mRatingsNr"
   ]
  },
  {
   "cell_type": "code",
   "execution_count": null,
   "metadata": {
    "collapsed": true
   },
   "outputs": [],
   "source": []
  },
  {
   "cell_type": "code",
   "execution_count": null,
   "metadata": {
    "collapsed": true
   },
   "outputs": [],
   "source": []
  },
  {
   "cell_type": "code",
   "execution_count": null,
   "metadata": {
    "collapsed": true
   },
   "outputs": [],
   "source": []
  },
  {
   "cell_type": "code",
   "execution_count": null,
   "metadata": {
    "collapsed": true
   },
   "outputs": [],
   "source": []
  },
  {
   "cell_type": "code",
   "execution_count": null,
   "metadata": {
    "collapsed": true
   },
   "outputs": [],
   "source": []
  },
  {
   "cell_type": "code",
   "execution_count": null,
   "metadata": {
    "collapsed": true
   },
   "outputs": [],
   "source": []
  },
  {
   "cell_type": "code",
   "execution_count": null,
   "metadata": {
    "collapsed": true
   },
   "outputs": [],
   "source": []
  },
  {
   "cell_type": "code",
   "execution_count": null,
   "metadata": {
    "collapsed": true
   },
   "outputs": [],
   "source": []
  },
  {
   "cell_type": "code",
   "execution_count": null,
   "metadata": {
    "collapsed": true
   },
   "outputs": [],
   "source": []
  },
  {
   "cell_type": "code",
   "execution_count": 26,
   "metadata": {
    "collapsed": true
   },
   "outputs": [],
   "source": [
    "from pyspark.sql.types import IntegerType, FloatType, DoubleType\n",
    "from pyspark.sql.functions import udf\n",
    "\n",
    "normalize_udf = udf(lambda cnt, gender: 1.*cnt/fRatingsNr if gender=='F' else 1.*cnt/mRatingsNr, DoubleType())\n",
    "\n",
    "ratingsHistogram=(\n",
    "\tratingsHistogram.withColumn(\"CntNormalized\", normalize_udf(ratingsHistogram.Cnt, ratingsHistogram.Gender))\n",
    ")"
   ]
  },
  {
   "cell_type": "code",
   "execution_count": 27,
   "metadata": {
    "scrolled": true
   },
   "outputs": [
    {
     "name": "stdout",
     "output_type": "stream",
     "text": [
      "+------+------+------+-------------------+\n",
      "|Rating|Gender|   Cnt|      CntNormalized|\n",
      "+------+------+------+-------------------+\n",
      "|     1|     F| 13347|0.05415922739814965|\n",
      "|     1|     M| 42827|0.05681714159112407|\n",
      "|     2|     F| 24548|0.09961045284856354|\n",
      "|     2|     M| 83009|0.11012525057411487|\n",
      "|     3|     F| 62966|0.25550235351403994|\n",
      "|     3|     M|198231| 0.2629864056494762|\n",
      "|     4|     F| 87033| 0.3531610128225937|\n",
      "|     4|     M|261938| 0.3475043415157694|\n",
      "|     5|     F| 58546|0.23756695341665315|\n",
      "|     5|     M|167764|0.22256686066951545|\n",
      "+------+------+------+-------------------+\n",
      "\n"
     ]
    }
   ],
   "source": [
    "ratingsHistogram.show(20)"
   ]
  },
  {
   "cell_type": "code",
   "execution_count": 20,
   "metadata": {},
   "outputs": [
    {
     "name": "stdout",
     "output_type": "stream",
     "text": [
      "+------+------------------+\n",
      "|Gender|sum(CntNormalized)|\n",
      "+------+------------------+\n",
      "|     F|               1.0|\n",
      "|     M|               1.0|\n",
      "+------+------------------+\n",
      "\n"
     ]
    }
   ],
   "source": [
    "ratingsHistogram.groupby('Gender').sum('CntNormalized').show()"
   ]
  },
  {
   "cell_type": "markdown",
   "metadata": {},
   "source": [
    "---\n",
    "## Read movies data"
   ]
  },
  {
   "cell_type": "code",
   "execution_count": 210,
   "metadata": {
    "collapsed": true
   },
   "outputs": [],
   "source": [
    "from pyspark.sql import types as T\n",
    "from pyspark.sql import functions as F"
   ]
  },
  {
   "cell_type": "code",
   "execution_count": 211,
   "metadata": {
    "collapsed": true
   },
   "outputs": [],
   "source": [
    "moviesDF = spark.read.csv(\"%s/movies.csv\" % DATADIR, sep='+', header=False, inferSchema=True)\n",
    "moviesDF =  moviesDF.withColumnRenamed('_c0', 'MovieID') \\\n",
    "\t\t\t\t\t\t\t\t\t.withColumnRenamed('_c1', 'Title') \\\n",
    "\t\t\t\t\t\t\t\t\t.withColumnRenamed('_c2', 'Genres')"
   ]
  },
  {
   "cell_type": "code",
   "execution_count": 212,
   "metadata": {},
   "outputs": [
    {
     "name": "stdout",
     "output_type": "stream",
     "text": [
      "+-------+-----------------------+----------------------------+\n",
      "|MovieID|                  Title|                      Genres|\n",
      "+-------+-----------------------+----------------------------+\n",
      "|      1|       Toy Story (1995)| Animation|Children's|Comedy|\n",
      "|      2|         Jumanji (1995)|Adventure|Children's|Fantasy|\n",
      "|      3|Grumpier Old Men (1995)|              Comedy|Romance|\n",
      "+-------+-----------------------+----------------------------+\n",
      "only showing top 3 rows\n",
      "\n"
     ]
    }
   ],
   "source": [
    "moviesDF.show(3, truncate=50)"
   ]
  },
  {
   "cell_type": "code",
   "execution_count": 213,
   "metadata": {
    "collapsed": true
   },
   "outputs": [],
   "source": [
    "split_udf = udf(lambda s: s.split(\"|\"), T.ArrayType(T.StringType()))\n",
    "moviesDF=moviesDF.withColumn(\"Genres\", split_udf(moviesDF['Genres']))"
   ]
  },
  {
   "cell_type": "code",
   "execution_count": 214,
   "metadata": {},
   "outputs": [
    {
     "name": "stdout",
     "output_type": "stream",
     "text": [
      "+-------+-----------------------+--------------------------------+\n",
      "|MovieID|                  Title|                          Genres|\n",
      "+-------+-----------------------+--------------------------------+\n",
      "|      1|       Toy Story (1995)| [Animation, Children's, Comedy]|\n",
      "|      2|         Jumanji (1995)|[Adventure, Children's, Fantasy]|\n",
      "|      3|Grumpier Old Men (1995)|               [Comedy, Romance]|\n",
      "+-------+-----------------------+--------------------------------+\n",
      "only showing top 3 rows\n",
      "\n"
     ]
    }
   ],
   "source": [
    "moviesDF.show(3, truncate=50)"
   ]
  },
  {
   "cell_type": "code",
   "execution_count": 216,
   "metadata": {
    "collapsed": true
   },
   "outputs": [],
   "source": [
    "# moviesDF=moviesDF.withColumn('Genre', F.explode(moviesDF.Genres))\n",
    "# moviesDF = moviesDF.drop('Genres')\n",
    "# moviesDF.show(10, truncate=50)"
   ]
  },
  {
   "cell_type": "code",
   "execution_count": 215,
   "metadata": {
    "collapsed": true
   },
   "outputs": [],
   "source": [
    "ratingsWithUserAndMovieDataDF = ratingsWithUserDataDF.join(moviesDF, how='inner', on='MovieID')"
   ]
  },
  {
   "cell_type": "code",
   "execution_count": 217,
   "metadata": {},
   "outputs": [
    {
     "name": "stdout",
     "output_type": "stream",
     "text": [
      "Nr. of rows: 1000209\n",
      "+-------+------+------+---------+------+---+----------+-------+----------------+-------------------------------+\n",
      "|MovieID|UserID|Rating|Timestamp|Gender|Age|Occupation|ZipCode|           Title|                         Genres|\n",
      "+-------+------+------+---------+------+---+----------+-------+----------------+-------------------------------+\n",
      "|      1|     1|     5|978824268|     F|  1|        10|  48067|Toy Story (1995)|[Animation, Children's, Comedy]|\n",
      "|      1|     6|     4|978237008|     F| 50|         9|  55117|Toy Story (1995)|[Animation, Children's, Comedy]|\n",
      "|      1|     8|     4|978233496|     M| 25|        12|  11413|Toy Story (1995)|[Animation, Children's, Comedy]|\n",
      "+-------+------+------+---------+------+---+----------+-------+----------------+-------------------------------+\n",
      "only showing top 3 rows\n",
      "\n"
     ]
    }
   ],
   "source": [
    "print \"Nr. of rows:\", ratingsWithUserAndMovieDataDF.count()\n",
    "ratingsWithUserAndMovieDataDF.sort(['MovieID','UserID']).show(3, truncate=50)"
   ]
  },
  {
   "cell_type": "code",
   "execution_count": 193,
   "metadata": {
    "collapsed": true
   },
   "outputs": [],
   "source": [
    "# ratingsWithUserAndMovieDataDF = (\n",
    "# \tratingsWithUserAndMovieDataDF\n",
    "# \t.withColumn('Genre', F.explode(ratingsWithUserAndMovieDataDF.Genres))\n",
    "# \t.drop('Genres')\n",
    "# )"
   ]
  },
  {
   "cell_type": "code",
   "execution_count": 194,
   "metadata": {
    "collapsed": true
   },
   "outputs": [],
   "source": [
    "# print \"Nr. of rows:\", ratingsWithUserAndMovieDataDF.count()\n",
    "# ratingsWithUserAndMovieDataDF.sort(['MovieID','UserID']).show(4, truncate=50)"
   ]
  },
  {
   "cell_type": "code",
   "execution_count": 196,
   "metadata": {
    "collapsed": true
   },
   "outputs": [],
   "source": [
    "# bubu = (\n",
    "# \tratingsWithUserAndMovieDataDF\n",
    "# \t.withColumn('Genre', F.explode(ratingsWithUserAndMovieDataDF.Genres))\n",
    "# \t.drop('Genres')\n",
    "# \t.groupBy(['Gender','Rating','Genre'])\n",
    "# \t.agg({\"*\":'count', \"Age\":'mean'})\n",
    "# \t.sort(['Genre','Gender','Rating'])\n",
    "# )"
   ]
  },
  {
   "cell_type": "code",
   "execution_count": 198,
   "metadata": {
    "collapsed": true
   },
   "outputs": [],
   "source": [
    "# ratingsWithUserAndMovieDataDF.printSchema()\n",
    "# ratingsWithUserAndMovieDataDF=ratingsWithUserAndMovieDataDF.withColumn(\n",
    "# 'Rating', ratingsWithUserAndMovieDataDF.Rating.astype(DoubleType())\n",
    "# )\n",
    "# ratingsWithUserAndMovieDataDF.printSchema()"
   ]
  },
  {
   "cell_type": "code",
   "execution_count": 218,
   "metadata": {},
   "outputs": [
    {
     "name": "stdout",
     "output_type": "stream",
     "text": [
      "+-------+------+------+---------+------+---+----------+-------+--------------------+--------------------+\n",
      "|MovieID|UserID|Rating|Timestamp|Gender|Age|Occupation|ZipCode|               Title|              Genres|\n",
      "+-------+------+------+---------+------+---+----------+-------+--------------------+--------------------+\n",
      "|   1193|     1|     5|978300760|     F|  1|        10|  48067|One Flew Over the...|             [Drama]|\n",
      "|    661|     1|     3|978302109|     F|  1|        10|  48067|James and the Gia...|[Animation, Child...|\n",
      "|    914|     1|     3|978301968|     F|  1|        10|  48067| My Fair Lady (1964)|  [Musical, Romance]|\n",
      "|   3408|     1|     4|978300275|     F|  1|        10|  48067|Erin Brockovich (...|             [Drama]|\n",
      "|   2355|     1|     5|978824291|     F|  1|        10|  48067|Bug's Life, A (1998)|[Animation, Child...|\n",
      "+-------+------+------+---------+------+---+----------+-------+--------------------+--------------------+\n",
      "only showing top 5 rows\n",
      "\n"
     ]
    }
   ],
   "source": [
    "ratingsWithUserAndMovieDataDF.show(5)"
   ]
  },
  {
   "cell_type": "code",
   "execution_count": 221,
   "metadata": {
    "collapsed": true
   },
   "outputs": [],
   "source": [
    "ratingsByGenderAndGenreSF = (\n",
    "\tratingsWithUserAndMovieDataDF\n",
    "\t.withColumn('Genre', F.explode(ratingsWithUserAndMovieDataDF.Genres))\n",
    "\t.drop('Genres')\n",
    "\t.groupBy(['Gender','Rating','Genre'])\n",
    "\t.agg(\n",
    "\t\tF.count('*').alias('Cnt'),\n",
    "\t\tF.mean('Age').alias('AvgAge')\n",
    "\t)\n",
    "# \t.agg({\"*\":'count', \"Age\":'mean'})\n",
    "\t.sort(['Genre','Gender','Rating'])\n",
    ")"
   ]
  },
  {
   "cell_type": "code",
   "execution_count": 222,
   "metadata": {},
   "outputs": [
    {
     "name": "stdout",
     "output_type": "stream",
     "text": [
      "+------+------+---------+-----+------------------+\n",
      "|Gender|Rating|    Genre|  Cnt|            AvgAge|\n",
      "+------+------+---------+-----+------------------+\n",
      "|     F|     1|   Action| 3087|27.126660187884678|\n",
      "|     F|     2|   Action| 5446|28.806096217407273|\n",
      "|     F|     3|   Action|12412| 29.63116339026748|\n",
      "|     F|     4|   Action|15410|30.180856586632057|\n",
      "|     F|     5|   Action| 9295|29.960731576116192|\n",
      "|     M|     1|   Action|13444| 27.07371318060101|\n",
      "|     M|     2|   Action|25986|28.363849765258216|\n",
      "|     M|     3|   Action|58316|29.262723780780576|\n",
      "|     M|     4|   Action|71169|29.408590819036377|\n",
      "|     M|     5|   Action|42892|29.018814697379465|\n",
      "|     F|     1|Adventure| 1696|26.340801886792452|\n",
      "|     F|     2|Adventure| 3178|28.382630585273755|\n",
      "|     F|     3|Adventure| 7592|29.033192834562698|\n",
      "|     F|     4|Adventure| 9144|29.722331583552055|\n",
      "|     F|     5|Adventure| 5722|29.570604683677036|\n",
      "|     M|     1|Adventure| 6798| 26.75684024713151|\n",
      "|     M|     2|Adventure|13463|28.504790908415657|\n",
      "|     M|     3|Adventure|30275|29.490305532617672|\n",
      "|     M|     4|Adventure|35199| 29.62527344526833|\n",
      "|     M|     5|Adventure|20886|29.638657473905965|\n",
      "+------+------+---------+-----+------------------+\n",
      "only showing top 20 rows\n",
      "\n"
     ]
    }
   ],
   "source": [
    "ratingsByGenderAndGenreSF.show(20)"
   ]
  },
  {
   "cell_type": "code",
   "execution_count": 225,
   "metadata": {
    "collapsed": true
   },
   "outputs": [],
   "source": [
    "avgRatingsByGenderAndGenreDF = (\n",
    "\tratingsWithUserAndMovieDataDF\n",
    "\t.withColumn('Genre', F.explode(ratingsWithUserAndMovieDataDF.Genres))\n",
    "\t.drop('Genres')\n",
    "\t.groupBy(['Gender','Genre'])\n",
    "\t.agg(\n",
    "\t\tF.count('*').alias('Cnt'),\n",
    "\t\tF.mean('Rating').alias('AvgRating')\n",
    "\t)\n",
    "# \t.agg({\"*\":'count', \"Rating\":'mean'})\n",
    "\t.sort(['Genre','Gender'])\n",
    ")"
   ]
  },
  {
   "cell_type": "code",
   "execution_count": 226,
   "metadata": {},
   "outputs": [
    {
     "name": "stdout",
     "output_type": "stream",
     "text": [
      "+------+-----------+------+------------------+\n",
      "|Gender|      Genre|   Cnt|         AvgRating|\n",
      "+------+-----------+------+------------------+\n",
      "|     F|     Action| 45650| 3.490251916757941|\n",
      "|     M|     Action|211807|3.4913860259575933|\n",
      "|     F|  Adventure| 27332|3.5128786770086347|\n",
      "|     M|  Adventure|106621| 3.468125416193808|\n",
      "|     F|  Animation| 12221| 3.744701742901563|\n",
      "|     M|  Animation| 31072| 3.661334963954686|\n",
      "|     F| Children's| 21317| 3.572547731857203|\n",
      "|     M| Children's| 50869|3.3589612534156363|\n",
      "|     F|     Comedy| 96271|3.5719375512875113|\n",
      "|     M|     Comedy|260309| 3.503666796000138|\n",
      "|     F|      Crime| 16442|3.6893321980294367|\n",
      "|     M|      Crime| 63099|3.7137197102965183|\n",
      "|     F|Documentary|  1940|  3.94639175257732|\n",
      "|     M|Documentary|  5970|3.9288107202680065|\n",
      "|     F|      Drama| 98153|3.7656617729463187|\n",
      "|     M|      Drama|256376|3.7665889162792148|\n",
      "|     F|    Fantasy|  8718|3.5130763936682725|\n",
      "|     M|    Fantasy| 27583|3.4266033426385816|\n",
      "|     F|  Film-Noir|  4202| 4.018086625416468|\n",
      "|     M|  Film-Noir| 14059| 4.092254072124618|\n",
      "+------+-----------+------+------------------+\n",
      "only showing top 20 rows\n",
      "\n"
     ]
    }
   ],
   "source": [
    "avgRatingsByGenderAndGenreDF.show(20)"
   ]
  },
  {
   "cell_type": "code",
   "execution_count": null,
   "metadata": {
    "collapsed": true
   },
   "outputs": [],
   "source": []
  },
  {
   "cell_type": "code",
   "execution_count": null,
   "metadata": {
    "collapsed": true
   },
   "outputs": [],
   "source": []
  },
  {
   "cell_type": "code",
   "execution_count": null,
   "metadata": {
    "collapsed": true
   },
   "outputs": [],
   "source": []
  },
  {
   "cell_type": "code",
   "execution_count": null,
   "metadata": {
    "collapsed": true
   },
   "outputs": [],
   "source": []
  },
  {
   "cell_type": "code",
   "execution_count": null,
   "metadata": {
    "collapsed": true
   },
   "outputs": [],
   "source": []
  },
  {
   "cell_type": "code",
   "execution_count": null,
   "metadata": {
    "collapsed": true
   },
   "outputs": [],
   "source": []
  },
  {
   "cell_type": "code",
   "execution_count": null,
   "metadata": {
    "collapsed": true
   },
   "outputs": [],
   "source": []
  },
  {
   "cell_type": "code",
   "execution_count": null,
   "metadata": {
    "collapsed": true
   },
   "outputs": [],
   "source": []
  },
  {
   "cell_type": "code",
   "execution_count": null,
   "metadata": {
    "collapsed": true
   },
   "outputs": [],
   "source": []
  },
  {
   "cell_type": "code",
   "execution_count": null,
   "metadata": {
    "collapsed": true
   },
   "outputs": [],
   "source": []
  },
  {
   "cell_type": "code",
   "execution_count": null,
   "metadata": {
    "collapsed": true
   },
   "outputs": [],
   "source": []
  },
  {
   "cell_type": "code",
   "execution_count": null,
   "metadata": {
    "collapsed": true
   },
   "outputs": [],
   "source": []
  },
  {
   "cell_type": "code",
   "execution_count": null,
   "metadata": {
    "collapsed": true
   },
   "outputs": [],
   "source": []
  },
  {
   "cell_type": "code",
   "execution_count": null,
   "metadata": {
    "collapsed": true
   },
   "outputs": [],
   "source": []
  },
  {
   "cell_type": "code",
   "execution_count": null,
   "metadata": {
    "collapsed": true
   },
   "outputs": [],
   "source": []
  },
  {
   "cell_type": "code",
   "execution_count": null,
   "metadata": {
    "collapsed": true
   },
   "outputs": [],
   "source": []
  },
  {
   "cell_type": "code",
   "execution_count": null,
   "metadata": {
    "collapsed": true
   },
   "outputs": [],
   "source": []
  },
  {
   "cell_type": "code",
   "execution_count": null,
   "metadata": {
    "collapsed": true
   },
   "outputs": [],
   "source": []
  },
  {
   "cell_type": "code",
   "execution_count": null,
   "metadata": {
    "collapsed": true
   },
   "outputs": [],
   "source": []
  },
  {
   "cell_type": "code",
   "execution_count": null,
   "metadata": {
    "collapsed": true
   },
   "outputs": [],
   "source": []
  },
  {
   "cell_type": "code",
   "execution_count": null,
   "metadata": {
    "collapsed": true
   },
   "outputs": [],
   "source": []
  },
  {
   "cell_type": "code",
   "execution_count": null,
   "metadata": {
    "collapsed": true
   },
   "outputs": [],
   "source": []
  },
  {
   "cell_type": "code",
   "execution_count": null,
   "metadata": {
    "collapsed": true
   },
   "outputs": [],
   "source": []
  },
  {
   "cell_type": "code",
   "execution_count": null,
   "metadata": {
    "collapsed": true
   },
   "outputs": [],
   "source": []
  },
  {
   "cell_type": "code",
   "execution_count": null,
   "metadata": {
    "collapsed": true
   },
   "outputs": [],
   "source": []
  },
  {
   "cell_type": "code",
   "execution_count": null,
   "metadata": {
    "collapsed": true
   },
   "outputs": [],
   "source": []
  },
  {
   "cell_type": "code",
   "execution_count": null,
   "metadata": {
    "collapsed": true
   },
   "outputs": [],
   "source": []
  },
  {
   "cell_type": "code",
   "execution_count": null,
   "metadata": {
    "collapsed": true
   },
   "outputs": [],
   "source": []
  },
  {
   "cell_type": "code",
   "execution_count": null,
   "metadata": {
    "collapsed": true
   },
   "outputs": [],
   "source": []
  },
  {
   "cell_type": "code",
   "execution_count": null,
   "metadata": {
    "collapsed": true
   },
   "outputs": [],
   "source": []
  },
  {
   "cell_type": "code",
   "execution_count": null,
   "metadata": {
    "collapsed": true
   },
   "outputs": [],
   "source": []
  },
  {
   "cell_type": "code",
   "execution_count": null,
   "metadata": {
    "collapsed": true
   },
   "outputs": [],
   "source": []
  },
  {
   "cell_type": "code",
   "execution_count": null,
   "metadata": {
    "collapsed": true
   },
   "outputs": [],
   "source": []
  }
 ],
 "metadata": {
  "kernelspec": {
   "display_name": "Python 2",
   "language": "python",
   "name": "python2"
  },
  "language_info": {
   "codemirror_mode": {
    "name": "ipython",
    "version": 2
   },
   "file_extension": ".py",
   "mimetype": "text/x-python",
   "name": "python",
   "nbconvert_exporter": "python",
   "pygments_lexer": "ipython2",
   "version": "2.7.13"
  }
 },
 "nbformat": 4,
 "nbformat_minor": 2
}
